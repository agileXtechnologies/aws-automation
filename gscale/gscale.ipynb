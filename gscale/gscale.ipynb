{
 "cells": [
  {
   "cell_type": "code",
   "execution_count": 1,
   "metadata": {},
   "outputs": [],
   "source": [
    "import gscale_login\n",
    "import gscale_sg\n",
    "import gscale_instance\n",
    "import gscale_CFdistri"
   ]
  },
  {
   "cell_type": "code",
   "execution_count": 2,
   "metadata": {},
   "outputs": [
    {
     "name": "stdout",
     "output_type": "stream",
     "text": [
      "Gscale-Global Scale\n",
      "-------------------\n",
      "\n",
      "gscale is built on AWS CloudFront for scaling your appliction automatically and with ease.\n",
      "It is in beta phase of development. You can smoothly scale Web Application on Apache(Httpd) Webserver\n",
      "NOTE: This will charge you money!\n",
      "You should have a AWS Account for using this tool\n",
      "Author: Shubham Bhalala\n",
      "Reach me out @ https://www.linkedin.com/in/shubham-bhalala-a5062916b/\n",
      "\n",
      "[*] Starting gscale...\n",
      "[✔] gscale started...\n",
      "[*] AWS Configure...\n",
      "[.] AWS Access Key ID: ········\n",
      "[.] AWS Secret Access Key: ········\n",
      "[.] Default region name: ap-south-1\n",
      "[✔] Access Key Entered\n",
      "\n",
      "[✔] Secret Access Key Entered\n",
      "\n",
      "[✔] Region Entered\n",
      "\n",
      "[*] Creating Firewall...\n",
      "[.] Group Name: testing\n",
      "[*] Creating testing79241 security group\n",
      "[✔] testing79241 Security group created\n",
      "[*] Allowing SSH:22 ...\n",
      "[✔] SSH Allowed...\n",
      "[*] Allowing HTTPD:80 ...\n",
      "[?] Do you want any other service port to be running? (y/n)n\n",
      "[✔] Creation of Firewall done\n",
      "[*] Launching Instance and Server Configuring\n",
      "[*] Launching Instance...\n",
      "[.] Enter Key Name to use: amzlinux\n",
      "[✔] Instance launched with key: amzlinux and security-group: sg-0110de6e41422104b\n",
      "[*] Creating EBS Volume...\n",
      "[.] Enter the size in GB: 1\n",
      "[.] Enter the Type of Volume: gp2\n",
      "[✔] EBS Volume created\n",
      "[*] Checking Instance State...\n",
      "[✔] Instance Running\n",
      "[*] Checking Instance Status...\n",
      "[✔] Instance status OK\n",
      "[*] Attaching EBS Volume...\n",
      "[✔] EBS Volume Attached\n",
      "[*] Configuring Instance\n",
      "[*] Formatting Device...\n",
      "[✔] Formated device\n",
      "[*] Installing Apache Webserver...\n",
      "[✔] Apache Webserver Installed\n",
      "[*] Mounting Device to /var/www/html\n",
      "[✔] Mounted Device\n",
      "[*] Starting httpd service...\n",
      "[✔] Httpd Service started\n",
      "[*] Enableing httpd service...\n",
      "[✔] Httpd Service enabled\n",
      "[*] Installing git...\n",
      "[✔] git installed\n",
      "[✔] Configured Instance\n",
      "[*] Creating S3 Bucket...\n",
      "Enter unique name for bucket: shubhambhalala2000\n",
      "[✔] S3 Bucket Created\n",
      "[*] Adding objects to bucket...\n",
      "Enter number of objects to add: 1\n",
      "[*] Uploading object 1\n",
      "Enter the local path of the object: F:\\shubham.png\n",
      "Enter the location of object in bucket: image/shuhbam.png\n",
      "[✔] Uploaded object 1\n",
      "[✔] Objects Added to Bucket\n",
      "[*] Creating CloudFront Distribution\n",
      "Enter the number of objects to be distributed: 1\n",
      "[*] Creating Distri 1\n",
      "Enter the location of object in bucket: image/shuhbam.png\n",
      "Edit this link in your code and push it in GitHub\n",
      "d21ul514m0ajz9.cloudfront.net\n",
      "[✔] Distri 1 created\n",
      "[✔] Created CloudFront Distribution\n",
      "[*] CloudFront is coming up...\n",
      "[✔] CloudFront is up\n",
      "Press any key after editing your code with cloudfront link to continue further...\n",
      "[*] Uploading code to Instance\n",
      "Enter the Git URL :https://github.com/AnonMrNone/gscale.git\n",
      "[✔] Uploaded Code to Instance\n",
      "Access your website on 13.127.151.77/<page name>\n"
     ]
    }
   ],
   "source": [
    "if gscale_login.gscaleLogin():\n",
    "    secuGID= gscale_sg.gscaleSecurityGroup()\n",
    "    instance= gscale_instance.gscaleInstance(secuGroup= secuGID)\n",
    "    gscale_CFdistri.gscaleCF(keyName= instance[0],insPubIp= instance[1])\n",
    "else:\n",
    "    exit()"
   ]
  },
  {
   "cell_type": "code",
   "execution_count": null,
   "metadata": {},
   "outputs": [],
   "source": []
  }
 ],
 "metadata": {
  "kernelspec": {
   "display_name": "Python 3",
   "language": "python",
   "name": "python3"
  },
  "language_info": {
   "codemirror_mode": {
    "name": "ipython",
    "version": 3
   },
   "file_extension": ".py",
   "mimetype": "text/x-python",
   "name": "python",
   "nbconvert_exporter": "python",
   "pygments_lexer": "ipython3",
   "version": "3.7.4"
  }
 },
 "nbformat": 4,
 "nbformat_minor": 2
}
