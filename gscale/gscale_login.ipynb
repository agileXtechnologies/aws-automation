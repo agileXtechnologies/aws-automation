{
 "cells": [
  {
   "cell_type": "code",
   "execution_count": null,
   "metadata": {},
   "outputs": [],
   "source": [
    "import subprocess, time, os\n",
    "def gscaleLogin():\n",
    "    count= 0\n",
    "    print(\"Gscale-Global Scale\")\n",
    "    print(\"-------------------\")\n",
    "    print(\"\\ngscale is built on AWS CloudFront for scaling your appliction automatically and with ease.\")\n",
    "    print(\"\\n[*] Starting gscale...\")\n",
    "    time.sleep(2)\n",
    "    print(\"[✔] gscale started...\")\n",
    "    print(\"[*] AWS Configure...\")\n",
    "    accKey= input(\"[.] AWS Access Key ID: \")\n",
    "    secKey= input(\"[.] AWS Secret Access Key: \")\n",
    "    defRegion= input(\"[.] Default region name: \")\n",
    "    confAccKey= subprocess.getstatusoutput(\"aws configure set aws_access_key_id {0}\".format(accKey))\n",
    "    confSecKey= subprocess.getstatusoutput(\"aws configure set aws_secret_access_key {0}\".format(secKey))\n",
    "    confRegion= subprocess.getstatusoutput(\"aws configure set default.region {0}\".format(defRegion))\n",
    "    if confAccKey[0] == 0:\n",
    "        print(\"[✔] Access Key Entered\")\n",
    "        print(confAccKey[1])\n",
    "        count= count +1\n",
    "    else:\n",
    "        print(\"[⛏] Error With Access Key: \")\n",
    "        print(confAccKey[1])\n",
    "        print(\"[🔐] Please enter it correctly next time\")\n",
    "        #accKey= input(\"[.] AWS Access Key ID: \")\n",
    "        #confAccKey= subprocess.getoutput(\"aws configure set aws_access_key_id {0}\".format(accKey))\n",
    "    if confSecKey[0] == 0:\n",
    "        print(\"[✔] Secret Access Key Entered\")\n",
    "        print(confSecKey[1])\n",
    "        count= count +1\n",
    "    else:\n",
    "        print(\"[⛏] Error With Secret Access Key: \")\n",
    "        print(confSecKey[1])\n",
    "        print(\"[🔐] Please enter it correctly next time\")\n",
    "        #secKey= input(\"[.] AWS Secret Access Key: \")\n",
    "        #confSecKey= subprocess.getoutput(\"aws configure set aws_secret_access_key {0}\".format(secKey))\n",
    "    if confRegion[0] == 0:\n",
    "        print(\"[✔] Region Entered\")\n",
    "        print(confRegion[1])\n",
    "        count= count +1\n",
    "    else:\n",
    "        print(\"[⛏] Error With Default Region Key: \")\n",
    "        print(confRegion[1])\n",
    "        print(\"[🔐] Please enter it correctly next time\")\n",
    "        #defRegion= input(\"[.] Default region name: \")\n",
    "        #confRegion= subprocess.getoutput(\"aws configure set default.region {0}\".format(defRegion))\n",
    "    if count == 3:\n",
    "        return True\n",
    "    else:\n",
    "        return False\n"
   ]
  },
  {
   "cell_type": "code",
   "execution_count": null,
   "metadata": {},
   "outputs": [],
   "source": []
  }
 ],
 "metadata": {
  "kernelspec": {
   "display_name": "Python 3",
   "language": "python",
   "name": "python3"
  },
  "language_info": {
   "codemirror_mode": {
    "name": "ipython",
    "version": 3
   },
   "file_extension": ".py",
   "mimetype": "text/x-python",
   "name": "python",
   "nbconvert_exporter": "python",
   "pygments_lexer": "ipython3",
   "version": "3.7.4"
  }
 },
 "nbformat": 4,
 "nbformat_minor": 2
}
