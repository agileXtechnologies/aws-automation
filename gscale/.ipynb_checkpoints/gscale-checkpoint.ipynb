{
 "cells": [
  {
   "cell_type": "code",
   "execution_count": null,
   "metadata": {},
   "outputs": [],
   "source": [
    "import gscale_login\n",
    "import gscale_sg\n",
    "import gscale_instance\n",
    "import gscale_CFdistri\n",
    "import platform\n",
    "from shutil import which\n",
    "import os\n",
    "import time"
   ]
  },
  {
   "cell_type": "code",
   "execution_count": null,
   "metadata": {},
   "outputs": [],
   "source": [
    "def is_tool(name):\n",
    "    return which(name) is not None\n",
    "print(\"[*] Checking system compatibility...\")\n",
    "if not is_tool(\"aws\"):\n",
    "    if platform.system() == \"Windows\":\n",
    "        print(\"[⛏] Install aws cli v2 from:  https://awscli.amazonaws.com/AWSCLIV2.msi\")\n",
    "        print(\"[✔] Visit this for more info: https://docs.aws.amazon.com/cli/latest/userguide/install-cliv2.html\")\n",
    "        exit()\n",
    "    elif platform.system() == \"Linux\":\n",
    "        print(\"[⛏] Install aws cli v2 by:\")\n",
    "        print('[1] curl \"https://awscli.amazonaws.com/awscli-exe-linux-x86_64.zip\" -o \"awscliv2.zip\"')\n",
    "        print('[2] unzip awscliv2.zip')\n",
    "        print('[3] sudo ./aws/install')\n",
    "        print(\"[✔] Visit this for more info: https://docs.aws.amazon.com/cli/latest/userguide/install-cliv2.html\")\n",
    "        exit()\n",
    "    elif platform.system() == \"Darwin\":\n",
    "        print(\"[⛏] Install aws cli v2 from:  https://awscli.amazonaws.com/AWSCLIV2.pkg\")\n",
    "        print(\"[✔] Visit this for more info: https://docs.aws.amazon.com/cli/latest/userguide/install-cliv2.html\")\n",
    "        exit()\n",
    "    else:\n",
    "        print(\"[⛏] Install aws cli v2 from:  https://docs.aws.amazon.com/cli/latest/userguide/install-cliv2.html\")\n",
    "        exit()\n",
    "else:\n",
    "    os.system(\"pip install pyfiglet\")\n",
    "    print(\"[✔] System compatible\")\n",
    "    time.sleep(1)\n",
    "    if platform.system() == \"Windows\":\n",
    "        os.system(\"cls\")\n",
    "    else:\n",
    "        os.system(\"clear\")\n",
    "\n",
    "if gscale_login.gscaleLogin():\n",
    "    secuGID= gscale_sg.gscaleSecurityGroup()\n",
    "    instance= gscale_instance.gscaleInstance(secuGroup= secuGID)\n",
    "    gscale_CFdistri.gscaleCF(keyName= instance[0],insPubIp= instance[1])\n",
    "else:\n",
    "    exit()"
   ]
  },
  {
   "cell_type": "code",
   "execution_count": null,
   "metadata": {},
   "outputs": [],
   "source": []
  }
 ],
 "metadata": {
  "kernelspec": {
   "display_name": "Python 3",
   "language": "python",
   "name": "python3"
  },
  "language_info": {
   "codemirror_mode": {
    "name": "ipython",
    "version": 3
   },
   "file_extension": ".py",
   "mimetype": "text/x-python",
   "name": "python",
   "nbconvert_exporter": "python",
   "pygments_lexer": "ipython3",
   "version": "3.7.4"
  }
 },
 "nbformat": 4,
 "nbformat_minor": 2
}
