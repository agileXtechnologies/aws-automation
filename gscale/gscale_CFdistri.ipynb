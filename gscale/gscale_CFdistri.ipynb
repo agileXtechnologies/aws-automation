{
 "cells": [
  {
   "cell_type": "code",
   "execution_count": null,
   "metadata": {},
   "outputs": [],
   "source": [
    "import platform, subprocess, os, time, random, json\n",
    "def errorCheck(check,prot):\n",
    "    if check[0] != 0:\n",
    "        print(\"[⛏] Error With {0} Key: \".format(prot))\n",
    "        print(check[1])\n",
    "        print(\"[🔐] Please enter it correctly next time\")\n",
    "        return True\n",
    "    else:\n",
    "        return False\n",
    "    \n",
    "def gscaleCF(keyName,insPubIp):\n",
    "    print(\"[*] Creating S3 Bucket...\")\n",
    "    time.sleep(1)\n",
    "    buckName= input(\"Enter unique name for bucket: \")\n",
    "    buckCreate= subprocess.getstatusoutput('aws s3api create-bucket --bucket {0} --acl public-read-write --region us-east-1'.format(buckName))\n",
    "    if errorCheck(buckCreate,\"S3 Bucket\"):\n",
    "        exit()\n",
    "    else:\n",
    "        print(\"[✔] S3 Bucket Created\")\n",
    "    print(\"[*] Adding objects to bucket...\")\n",
    "    num= input(\"Enter number of objects to add: \")\n",
    "    for i in range(0,num):\n",
    "        print(\"[*] Uploading object {0}\".format(i+1))\n",
    "        objPath= input(\"Enter the local path of the object: \")\n",
    "        objLoc= input(\"Enter the location of object in bucket: \")\n",
    "        buckUpload= subprocess.getstatusoutput('aws s3api put-object --acl public-read-write --bucket {0} --key {1} --body {2}'.format(buckName,objLoc,objPath))\n",
    "        print(\"[✔] Uploaded object {0}\".format(i+1))\n",
    "    print(\"[✔] Objects Added to Bucket\")\n",
    "    print(\"[*] Creating CloudFront Distribution\")\n",
    "    no= input(\"Enter the number of objects to be distributed: \")\n",
    "    for i in range(0,no):\n",
    "        print(\"[*] Creating Distri {0}\".format(i+1))\n",
    "        cfObject= input(\"Enter the location of object in bucket: \")\n",
    "        cfCreate= subprocess.getstatusoutput('aws cloudfront create-distribution --origin-domain-name {0}.s3.amazonaws.com --default-root-object {1}'.format(buckName,cfObject))\n",
    "        print(\"[✔] Distri {0} created\".format(i+1))\n",
    "    print(\"[✔] Created CloudFront Distribution\")\n",
    "    print(\"Edit this link in your code and push it in GitHub\")\n",
    "    time.sleep(1)\n",
    "    input(\"Press any key after editing your code with cloudfront link to continue further...\")\n",
    "    print(\"[*] Uploading code to Instance\")\n",
    "    gitUrl= input(\"Enter the Git URL :\")\n",
    "    insCodeUpload= subprocess,getstatusoutput('ssh -i {0} -o UserKnownHostsFile=/dev/null -o StrictHostKeyChecking=no ec2-user@{1}  \"sudo git clone {1}\"'.format(keyName,insPubIp,gitUrl))\n",
    "    insCodeCopy= subprocess,getstatusoutput('ssh -i {0} -o UserKnownHostsFile=/dev/null -o StrictHostKeyChecking=no ec2-user@{1}  \"sudo cp ./gscale/index.html /var/www/html/\"'.format(keyName,insPubIp))\n",
    "    \n",
    "    \n",
    "        "
   ]
  },
  {
   "cell_type": "code",
   "execution_count": null,
   "metadata": {},
   "outputs": [],
   "source": []
  }
 ],
 "metadata": {
  "kernelspec": {
   "display_name": "Python 3",
   "language": "python",
   "name": "python3"
  },
  "language_info": {
   "codemirror_mode": {
    "name": "ipython",
    "version": 3
   },
   "file_extension": ".py",
   "mimetype": "text/x-python",
   "name": "python",
   "nbconvert_exporter": "python",
   "pygments_lexer": "ipython3",
   "version": "3.7.4"
  }
 },
 "nbformat": 4,
 "nbformat_minor": 2
}
