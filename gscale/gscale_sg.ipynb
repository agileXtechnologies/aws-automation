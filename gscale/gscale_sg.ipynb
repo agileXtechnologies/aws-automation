{
 "cells": [
  {
   "cell_type": "code",
   "execution_count": 5,
   "metadata": {},
   "outputs": [],
   "source": [
    "import platform, subprocess, os, time, random, json\n",
    "    \n",
    "def errorCheck(check,prot):\n",
    "    if check[0] != 0:\n",
    "        print(\"[⛏] Error With {0} Key: \".format(prot))\n",
    "        print(check[1])\n",
    "        print(\"[🔐] Please enter it correctly next time\")\n",
    "        return True\n",
    "    else:\n",
    "        return False\n",
    "       \n",
    "def gscaleSecurityGroup():\n",
    "    if platform.system() == 'Windows':\n",
    "        os.system(\"cls\")\n",
    "    else:\n",
    "        os.system(\"clear\")\n",
    "    print(\"[*] Creating Firewall...\")\n",
    "    time.sleep(2)\n",
    "    groupName= input(\"[.] Group Name: \")\n",
    "    rint= random.randint(0,100000)\n",
    "    groupName= groupName+str(rint)\n",
    "    print(\"[*] Creating {0} security group\".format(groupName))\n",
    "    sg= subprocess.getstatusoutput('aws ec2 create-security-group --description \"gscale-security-group\" --group-name \"{0}\"'.format(groupName))\n",
    "    print(\"[✔] {0} Security group created\".format(groupName))\n",
    "    print(\"[*] Allowing SSH:22 ...\")\n",
    "    portSSH= subprocess.getstatusoutput('aws ec2 authorize-security-group-ingress --group-name {0} --protocol tcp --port 22 --cidr 0.0.0.0/0'.format(groupName))\n",
    "    print(\"[✔] SSH Allowed...\")\n",
    "    print(\"[*] Allowing HTTPD:80 ...\")\n",
    "    portSSH= subprocess.getstatusoutput('aws ec2 authorize-security-group-ingress --group-name {0} --protocol tcp --port 80 --cidr 0.0.0.0/0'.format(groupName))\n",
    "    if input(\"[?] Do you want any other service port to be running? (y/n)\") == \"y\":\n",
    "        newPort= input(\"[.] Enter the port number: \")\n",
    "        newProto= input(\"[.] Enter the protocol: \")\n",
    "        newCIDR= input(\"[.] Enter the CIDR for allowed connection: \")\n",
    "        print(\"[*] Allowing {0} on {1}:{2}\".format(newCIDR,newProto,newPort))\n",
    "        newIngress= subprocess.getstatusoutput('aws ec2 authorize-security-group-ingress --group-name {0} --protocol {1} --port {2} --cidr {3}'.format(groupName,newProto,newPort,newCIDR))\n",
    "        if errorCheck(newIngress,\"port|protocol|CIDR\"):\n",
    "            exit()\n",
    "        else:\n",
    "            print(\"[✔] Allowed {0} on {1}:{2}\".format(newCIDR,newProto,newPort))\n",
    "            print(\"[✔] Creation of Firewall done\")\n",
    "    else:\n",
    "        print(\"[✔] Creation of Firewall done\")\n",
    "        \n",
    "    sgJson= json.loads(sg[1])\n",
    "    sgID= sgJson[\"GroupId\"]\n",
    "    return sgID"
   ]
  },
  {
   "cell_type": "code",
   "execution_count": null,
   "metadata": {},
   "outputs": [],
   "source": []
  }
 ],
 "metadata": {
  "kernelspec": {
   "display_name": "Python 3",
   "language": "python",
   "name": "python3"
  },
  "language_info": {
   "codemirror_mode": {
    "name": "ipython",
    "version": 3
   },
   "file_extension": ".py",
   "mimetype": "text/x-python",
   "name": "python",
   "nbconvert_exporter": "python",
   "pygments_lexer": "ipython3",
   "version": "3.7.4"
  }
 },
 "nbformat": 4,
 "nbformat_minor": 2
}
